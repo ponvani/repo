{
 "cells": [
  {
   "cell_type": "markdown",
   "metadata": {},
   "source": [
    "\n",
    "##  ML Assignment #2 \n",
    "\n",
    "### <font color =blue > Group ID : ML_GROUP006 </font>\n",
    "### Group Members:\n",
    "\n",
    "1. Ponvani : 2018AC04559\n",
    "2. Bala Kavin Pon : 2018AC04531\n",
    "2. Poornima J : 2018AC04550\n",
    "2. Venkataramanan Krishnan : 2018AC04529\n",
    "\n",
    "## Problem Statement: Predict whether the patient has diabetes or not.\n",
    "\n",
    "### Import the data from Indian diabetes dataset (Links to an external site.) and find dataset description from here (Links to an external site.) (2 points).\n",
    "\n",
    "#### Consider all columns as independent variables and assign to variable X except the last column and consider the last column as the dependent variable and assign to variable y. Remove columns which don’t help the problem statement. (1 point).\n",
    "\n",
    "#### Do Feature Scaling on Independent variables (2 points).\n",
    "\n",
    "#### Split the data into train and test dataset (1 point).\n",
    "\n",
    "#### Use Keras to make the neural network model and train the dataset on the same. (4 points).\n",
    "\n",
    "#### Compute the accuracy and confusion matrix. (2 points)."
   ]
  },
  {
   "cell_type": "raw",
   "metadata": {},
   "source": []
  },
  {
   "cell_type": "markdown",
   "metadata": {},
   "source": [
    "## Import Libraries"
   ]
  },
  {
   "cell_type": "code",
   "execution_count": 46,
   "metadata": {},
   "outputs": [],
   "source": [
    "import pandas as pd\n",
    "import numpy as np\n",
    "from sklearn.model_selection import train_test_split\n",
    "from sklearn.linear_model import LogisticRegression\n",
    "import seaborn as sns\n",
    "import matplotlib.pyplot as plt\n",
    "from sklearn.metrics import classification_report\n",
    "from sklearn import metrics\n",
    "from sklearn.metrics import roc_auc_score\n",
    "from sklearn.metrics import roc_curve\n",
    "from sklearn.externals import joblib\n",
    "\n",
    "#Dependencies\n",
    "import keras\n",
    "from keras.models import Sequential\n",
    "from keras.layers import Dense"
   ]
  },
  {
   "cell_type": "markdown",
   "metadata": {},
   "source": [
    "## Step 1: Loading Data"
   ]
  },
  {
   "cell_type": "code",
   "execution_count": 47,
   "metadata": {},
   "outputs": [
    {
     "name": "stdout",
     "output_type": "stream",
     "text": [
      "      0    1   2   3    4     5      6   7  8\n",
      "0     6  148  72  35    0  33.6  0.627  50  1\n",
      "1     1   85  66  29    0  26.6  0.351  31  0\n",
      "2     8  183  64   0    0  23.3  0.672  32  1\n",
      "3     1   89  66  23   94  28.1  0.167  21  0\n",
      "4     0  137  40  35  168  43.1  2.288  33  1\n",
      "..   ..  ...  ..  ..  ...   ...    ...  .. ..\n",
      "763  10  101  76  48  180  32.9  0.171  63  0\n",
      "764   2  122  70  27    0  36.8  0.340  27  0\n",
      "765   5  121  72  23  112  26.2  0.245  30  0\n",
      "766   1  126  60   0    0  30.1  0.349  47  1\n",
      "767   1   93  70  31    0  30.4  0.315  23  0\n",
      "\n",
      "[768 rows x 9 columns]\n"
     ]
    }
   ],
   "source": [
    "df = pd.read_csv(\"https://raw.githubusercontent.com/jbrownlee/Datasets/master/pima-indians-diabetes.data.csv\", header=None);\n",
    "print(df)"
   ]
  },
  {
   "cell_type": "markdown",
   "metadata": {},
   "source": [
    "### Adding Header to the data"
   ]
  },
  {
   "cell_type": "code",
   "execution_count": 48,
   "metadata": {},
   "outputs": [
    {
     "data": {
      "text/html": [
       "<div>\n",
       "<style scoped>\n",
       "    .dataframe tbody tr th:only-of-type {\n",
       "        vertical-align: middle;\n",
       "    }\n",
       "\n",
       "    .dataframe tbody tr th {\n",
       "        vertical-align: top;\n",
       "    }\n",
       "\n",
       "    .dataframe thead th {\n",
       "        text-align: right;\n",
       "    }\n",
       "</style>\n",
       "<table border=\"1\" class=\"dataframe\">\n",
       "  <thead>\n",
       "    <tr style=\"text-align: right;\">\n",
       "      <th></th>\n",
       "      <th>pregnancies_times</th>\n",
       "      <th>glucose</th>\n",
       "      <th>bp</th>\n",
       "      <th>skin_thickness</th>\n",
       "      <th>insulin</th>\n",
       "      <th>bmi</th>\n",
       "      <th>Diabetes_Pedigree_Function</th>\n",
       "      <th>age</th>\n",
       "      <th>outcome</th>\n",
       "    </tr>\n",
       "  </thead>\n",
       "  <tbody>\n",
       "    <tr>\n",
       "      <td>0</td>\n",
       "      <td>6</td>\n",
       "      <td>148</td>\n",
       "      <td>72</td>\n",
       "      <td>35</td>\n",
       "      <td>0</td>\n",
       "      <td>33.6</td>\n",
       "      <td>0.627</td>\n",
       "      <td>50</td>\n",
       "      <td>1</td>\n",
       "    </tr>\n",
       "    <tr>\n",
       "      <td>1</td>\n",
       "      <td>1</td>\n",
       "      <td>85</td>\n",
       "      <td>66</td>\n",
       "      <td>29</td>\n",
       "      <td>0</td>\n",
       "      <td>26.6</td>\n",
       "      <td>0.351</td>\n",
       "      <td>31</td>\n",
       "      <td>0</td>\n",
       "    </tr>\n",
       "    <tr>\n",
       "      <td>2</td>\n",
       "      <td>8</td>\n",
       "      <td>183</td>\n",
       "      <td>64</td>\n",
       "      <td>0</td>\n",
       "      <td>0</td>\n",
       "      <td>23.3</td>\n",
       "      <td>0.672</td>\n",
       "      <td>32</td>\n",
       "      <td>1</td>\n",
       "    </tr>\n",
       "    <tr>\n",
       "      <td>3</td>\n",
       "      <td>1</td>\n",
       "      <td>89</td>\n",
       "      <td>66</td>\n",
       "      <td>23</td>\n",
       "      <td>94</td>\n",
       "      <td>28.1</td>\n",
       "      <td>0.167</td>\n",
       "      <td>21</td>\n",
       "      <td>0</td>\n",
       "    </tr>\n",
       "    <tr>\n",
       "      <td>4</td>\n",
       "      <td>0</td>\n",
       "      <td>137</td>\n",
       "      <td>40</td>\n",
       "      <td>35</td>\n",
       "      <td>168</td>\n",
       "      <td>43.1</td>\n",
       "      <td>2.288</td>\n",
       "      <td>33</td>\n",
       "      <td>1</td>\n",
       "    </tr>\n",
       "  </tbody>\n",
       "</table>\n",
       "</div>"
      ],
      "text/plain": [
       "   pregnancies_times  glucose  bp  skin_thickness  insulin   bmi  \\\n",
       "0                  6      148  72              35        0  33.6   \n",
       "1                  1       85  66              29        0  26.6   \n",
       "2                  8      183  64               0        0  23.3   \n",
       "3                  1       89  66              23       94  28.1   \n",
       "4                  0      137  40              35      168  43.1   \n",
       "\n",
       "   Diabetes_Pedigree_Function  age  outcome  \n",
       "0                       0.627   50        1  \n",
       "1                       0.351   31        0  \n",
       "2                       0.672   32        1  \n",
       "3                       0.167   21        0  \n",
       "4                       2.288   33        1  "
      ]
     },
     "execution_count": 48,
     "metadata": {},
     "output_type": "execute_result"
    }
   ],
   "source": [
    "df.columns = [\"pregnancies_times\", \"glucose\", \"bp\", \"skin_thickness\",\"insulin\",\"bmi\",\"Diabetes_Pedigree_Function\",\"age\",\"outcome\"]\n",
    "df.head()"
   ]
  },
  {
   "cell_type": "code",
   "execution_count": 49,
   "metadata": {},
   "outputs": [
    {
     "data": {
      "text/plain": [
       "(768, 9)"
      ]
     },
     "execution_count": 49,
     "metadata": {},
     "output_type": "execute_result"
    }
   ],
   "source": [
    "df.shape"
   ]
  },
  {
   "cell_type": "code",
   "execution_count": 50,
   "metadata": {},
   "outputs": [
    {
     "name": "stdout",
     "output_type": "stream",
     "text": [
      "<class 'pandas.core.frame.DataFrame'>\n",
      "RangeIndex: 768 entries, 0 to 767\n",
      "Data columns (total 9 columns):\n",
      "pregnancies_times             768 non-null int64\n",
      "glucose                       768 non-null int64\n",
      "bp                            768 non-null int64\n",
      "skin_thickness                768 non-null int64\n",
      "insulin                       768 non-null int64\n",
      "bmi                           768 non-null float64\n",
      "Diabetes_Pedigree_Function    768 non-null float64\n",
      "age                           768 non-null int64\n",
      "outcome                       768 non-null int64\n",
      "dtypes: float64(2), int64(7)\n",
      "memory usage: 54.1 KB\n"
     ]
    }
   ],
   "source": [
    "df.info()"
   ]
  },
  {
   "cell_type": "code",
   "execution_count": 51,
   "metadata": {},
   "outputs": [
    {
     "data": {
      "text/html": [
       "<div>\n",
       "<style scoped>\n",
       "    .dataframe tbody tr th:only-of-type {\n",
       "        vertical-align: middle;\n",
       "    }\n",
       "\n",
       "    .dataframe tbody tr th {\n",
       "        vertical-align: top;\n",
       "    }\n",
       "\n",
       "    .dataframe thead th {\n",
       "        text-align: right;\n",
       "    }\n",
       "</style>\n",
       "<table border=\"1\" class=\"dataframe\">\n",
       "  <thead>\n",
       "    <tr style=\"text-align: right;\">\n",
       "      <th></th>\n",
       "      <th>count</th>\n",
       "      <th>mean</th>\n",
       "      <th>std</th>\n",
       "      <th>min</th>\n",
       "      <th>25%</th>\n",
       "      <th>50%</th>\n",
       "      <th>75%</th>\n",
       "      <th>max</th>\n",
       "    </tr>\n",
       "  </thead>\n",
       "  <tbody>\n",
       "    <tr>\n",
       "      <td>pregnancies_times</td>\n",
       "      <td>768.0</td>\n",
       "      <td>3.845052</td>\n",
       "      <td>3.369578</td>\n",
       "      <td>0.000</td>\n",
       "      <td>1.00000</td>\n",
       "      <td>3.0000</td>\n",
       "      <td>6.00000</td>\n",
       "      <td>17.00</td>\n",
       "    </tr>\n",
       "    <tr>\n",
       "      <td>glucose</td>\n",
       "      <td>768.0</td>\n",
       "      <td>120.894531</td>\n",
       "      <td>31.972618</td>\n",
       "      <td>0.000</td>\n",
       "      <td>99.00000</td>\n",
       "      <td>117.0000</td>\n",
       "      <td>140.25000</td>\n",
       "      <td>199.00</td>\n",
       "    </tr>\n",
       "    <tr>\n",
       "      <td>bp</td>\n",
       "      <td>768.0</td>\n",
       "      <td>69.105469</td>\n",
       "      <td>19.355807</td>\n",
       "      <td>0.000</td>\n",
       "      <td>62.00000</td>\n",
       "      <td>72.0000</td>\n",
       "      <td>80.00000</td>\n",
       "      <td>122.00</td>\n",
       "    </tr>\n",
       "    <tr>\n",
       "      <td>skin_thickness</td>\n",
       "      <td>768.0</td>\n",
       "      <td>20.536458</td>\n",
       "      <td>15.952218</td>\n",
       "      <td>0.000</td>\n",
       "      <td>0.00000</td>\n",
       "      <td>23.0000</td>\n",
       "      <td>32.00000</td>\n",
       "      <td>99.00</td>\n",
       "    </tr>\n",
       "    <tr>\n",
       "      <td>insulin</td>\n",
       "      <td>768.0</td>\n",
       "      <td>79.799479</td>\n",
       "      <td>115.244002</td>\n",
       "      <td>0.000</td>\n",
       "      <td>0.00000</td>\n",
       "      <td>30.5000</td>\n",
       "      <td>127.25000</td>\n",
       "      <td>846.00</td>\n",
       "    </tr>\n",
       "    <tr>\n",
       "      <td>bmi</td>\n",
       "      <td>768.0</td>\n",
       "      <td>31.992578</td>\n",
       "      <td>7.884160</td>\n",
       "      <td>0.000</td>\n",
       "      <td>27.30000</td>\n",
       "      <td>32.0000</td>\n",
       "      <td>36.60000</td>\n",
       "      <td>67.10</td>\n",
       "    </tr>\n",
       "    <tr>\n",
       "      <td>Diabetes_Pedigree_Function</td>\n",
       "      <td>768.0</td>\n",
       "      <td>0.471876</td>\n",
       "      <td>0.331329</td>\n",
       "      <td>0.078</td>\n",
       "      <td>0.24375</td>\n",
       "      <td>0.3725</td>\n",
       "      <td>0.62625</td>\n",
       "      <td>2.42</td>\n",
       "    </tr>\n",
       "    <tr>\n",
       "      <td>age</td>\n",
       "      <td>768.0</td>\n",
       "      <td>33.240885</td>\n",
       "      <td>11.760232</td>\n",
       "      <td>21.000</td>\n",
       "      <td>24.00000</td>\n",
       "      <td>29.0000</td>\n",
       "      <td>41.00000</td>\n",
       "      <td>81.00</td>\n",
       "    </tr>\n",
       "    <tr>\n",
       "      <td>outcome</td>\n",
       "      <td>768.0</td>\n",
       "      <td>0.348958</td>\n",
       "      <td>0.476951</td>\n",
       "      <td>0.000</td>\n",
       "      <td>0.00000</td>\n",
       "      <td>0.0000</td>\n",
       "      <td>1.00000</td>\n",
       "      <td>1.00</td>\n",
       "    </tr>\n",
       "  </tbody>\n",
       "</table>\n",
       "</div>"
      ],
      "text/plain": [
       "                            count        mean         std     min       25%  \\\n",
       "pregnancies_times           768.0    3.845052    3.369578   0.000   1.00000   \n",
       "glucose                     768.0  120.894531   31.972618   0.000  99.00000   \n",
       "bp                          768.0   69.105469   19.355807   0.000  62.00000   \n",
       "skin_thickness              768.0   20.536458   15.952218   0.000   0.00000   \n",
       "insulin                     768.0   79.799479  115.244002   0.000   0.00000   \n",
       "bmi                         768.0   31.992578    7.884160   0.000  27.30000   \n",
       "Diabetes_Pedigree_Function  768.0    0.471876    0.331329   0.078   0.24375   \n",
       "age                         768.0   33.240885   11.760232  21.000  24.00000   \n",
       "outcome                     768.0    0.348958    0.476951   0.000   0.00000   \n",
       "\n",
       "                                 50%        75%     max  \n",
       "pregnancies_times             3.0000    6.00000   17.00  \n",
       "glucose                     117.0000  140.25000  199.00  \n",
       "bp                           72.0000   80.00000  122.00  \n",
       "skin_thickness               23.0000   32.00000   99.00  \n",
       "insulin                      30.5000  127.25000  846.00  \n",
       "bmi                          32.0000   36.60000   67.10  \n",
       "Diabetes_Pedigree_Function    0.3725    0.62625    2.42  \n",
       "age                          29.0000   41.00000   81.00  \n",
       "outcome                       0.0000    1.00000    1.00  "
      ]
     },
     "execution_count": 51,
     "metadata": {},
     "output_type": "execute_result"
    }
   ],
   "source": [
    "df.describe().T"
   ]
  },
  {
   "cell_type": "markdown",
   "metadata": {},
   "source": [
    " Glucose,BP,skin_thickness,Insulin & bmi have min value as 0 which does not seem to be a valid value for these attributes so replace these values with atrribute mean values"
   ]
  },
  {
   "cell_type": "code",
   "execution_count": 52,
   "metadata": {},
   "outputs": [
    {
     "data": {
      "text/html": [
       "<div>\n",
       "<style scoped>\n",
       "    .dataframe tbody tr th:only-of-type {\n",
       "        vertical-align: middle;\n",
       "    }\n",
       "\n",
       "    .dataframe tbody tr th {\n",
       "        vertical-align: top;\n",
       "    }\n",
       "\n",
       "    .dataframe thead th {\n",
       "        text-align: right;\n",
       "    }\n",
       "</style>\n",
       "<table border=\"1\" class=\"dataframe\">\n",
       "  <thead>\n",
       "    <tr style=\"text-align: right;\">\n",
       "      <th></th>\n",
       "      <th>count</th>\n",
       "      <th>mean</th>\n",
       "      <th>std</th>\n",
       "      <th>min</th>\n",
       "      <th>25%</th>\n",
       "      <th>50%</th>\n",
       "      <th>75%</th>\n",
       "      <th>max</th>\n",
       "    </tr>\n",
       "  </thead>\n",
       "  <tbody>\n",
       "    <tr>\n",
       "      <td>pregnancies_times</td>\n",
       "      <td>768.0</td>\n",
       "      <td>3.845052</td>\n",
       "      <td>3.369578</td>\n",
       "      <td>0.000</td>\n",
       "      <td>1.000000</td>\n",
       "      <td>3.000000</td>\n",
       "      <td>6.00000</td>\n",
       "      <td>17.00</td>\n",
       "    </tr>\n",
       "    <tr>\n",
       "      <td>glucose</td>\n",
       "      <td>768.0</td>\n",
       "      <td>121.681605</td>\n",
       "      <td>30.436016</td>\n",
       "      <td>44.000</td>\n",
       "      <td>99.750000</td>\n",
       "      <td>117.000000</td>\n",
       "      <td>140.25000</td>\n",
       "      <td>199.00</td>\n",
       "    </tr>\n",
       "    <tr>\n",
       "      <td>bp</td>\n",
       "      <td>768.0</td>\n",
       "      <td>72.254807</td>\n",
       "      <td>12.115932</td>\n",
       "      <td>24.000</td>\n",
       "      <td>64.000000</td>\n",
       "      <td>72.000000</td>\n",
       "      <td>80.00000</td>\n",
       "      <td>122.00</td>\n",
       "    </tr>\n",
       "    <tr>\n",
       "      <td>skin_thickness</td>\n",
       "      <td>768.0</td>\n",
       "      <td>26.606479</td>\n",
       "      <td>9.631241</td>\n",
       "      <td>7.000</td>\n",
       "      <td>20.536458</td>\n",
       "      <td>23.000000</td>\n",
       "      <td>32.00000</td>\n",
       "      <td>99.00</td>\n",
       "    </tr>\n",
       "    <tr>\n",
       "      <td>insulin</td>\n",
       "      <td>768.0</td>\n",
       "      <td>118.660163</td>\n",
       "      <td>93.080358</td>\n",
       "      <td>14.000</td>\n",
       "      <td>79.799479</td>\n",
       "      <td>79.799479</td>\n",
       "      <td>127.25000</td>\n",
       "      <td>846.00</td>\n",
       "    </tr>\n",
       "    <tr>\n",
       "      <td>bmi</td>\n",
       "      <td>768.0</td>\n",
       "      <td>32.450805</td>\n",
       "      <td>6.875374</td>\n",
       "      <td>18.200</td>\n",
       "      <td>27.500000</td>\n",
       "      <td>32.000000</td>\n",
       "      <td>36.60000</td>\n",
       "      <td>67.10</td>\n",
       "    </tr>\n",
       "    <tr>\n",
       "      <td>Diabetes_Pedigree_Function</td>\n",
       "      <td>768.0</td>\n",
       "      <td>0.471876</td>\n",
       "      <td>0.331329</td>\n",
       "      <td>0.078</td>\n",
       "      <td>0.243750</td>\n",
       "      <td>0.372500</td>\n",
       "      <td>0.62625</td>\n",
       "      <td>2.42</td>\n",
       "    </tr>\n",
       "    <tr>\n",
       "      <td>age</td>\n",
       "      <td>768.0</td>\n",
       "      <td>33.240885</td>\n",
       "      <td>11.760232</td>\n",
       "      <td>21.000</td>\n",
       "      <td>24.000000</td>\n",
       "      <td>29.000000</td>\n",
       "      <td>41.00000</td>\n",
       "      <td>81.00</td>\n",
       "    </tr>\n",
       "    <tr>\n",
       "      <td>outcome</td>\n",
       "      <td>768.0</td>\n",
       "      <td>0.348958</td>\n",
       "      <td>0.476951</td>\n",
       "      <td>0.000</td>\n",
       "      <td>0.000000</td>\n",
       "      <td>0.000000</td>\n",
       "      <td>1.00000</td>\n",
       "      <td>1.00</td>\n",
       "    </tr>\n",
       "  </tbody>\n",
       "</table>\n",
       "</div>"
      ],
      "text/plain": [
       "                            count        mean        std     min        25%  \\\n",
       "pregnancies_times           768.0    3.845052   3.369578   0.000   1.000000   \n",
       "glucose                     768.0  121.681605  30.436016  44.000  99.750000   \n",
       "bp                          768.0   72.254807  12.115932  24.000  64.000000   \n",
       "skin_thickness              768.0   26.606479   9.631241   7.000  20.536458   \n",
       "insulin                     768.0  118.660163  93.080358  14.000  79.799479   \n",
       "bmi                         768.0   32.450805   6.875374  18.200  27.500000   \n",
       "Diabetes_Pedigree_Function  768.0    0.471876   0.331329   0.078   0.243750   \n",
       "age                         768.0   33.240885  11.760232  21.000  24.000000   \n",
       "outcome                     768.0    0.348958   0.476951   0.000   0.000000   \n",
       "\n",
       "                                   50%        75%     max  \n",
       "pregnancies_times             3.000000    6.00000   17.00  \n",
       "glucose                     117.000000  140.25000  199.00  \n",
       "bp                           72.000000   80.00000  122.00  \n",
       "skin_thickness               23.000000   32.00000   99.00  \n",
       "insulin                      79.799479  127.25000  846.00  \n",
       "bmi                          32.000000   36.60000   67.10  \n",
       "Diabetes_Pedigree_Function    0.372500    0.62625    2.42  \n",
       "age                          29.000000   41.00000   81.00  \n",
       "outcome                       0.000000    1.00000    1.00  "
      ]
     },
     "execution_count": 52,
     "metadata": {},
     "output_type": "execute_result"
    }
   ],
   "source": [
    "for cols in ['glucose','bp','skin_thickness','insulin','bmi']:\n",
    "    df.loc[df[cols] == 0,cols]= df[cols].mean(skipna=True)\n",
    "df.describe().T"
   ]
  },
  {
   "cell_type": "markdown",
   "metadata": {},
   "source": [
    "### Find Correlation with the class variable"
   ]
  },
  {
   "cell_type": "code",
   "execution_count": 53,
   "metadata": {},
   "outputs": [
    {
     "data": {
      "text/html": [
       "<div>\n",
       "<style scoped>\n",
       "    .dataframe tbody tr th:only-of-type {\n",
       "        vertical-align: middle;\n",
       "    }\n",
       "\n",
       "    .dataframe tbody tr th {\n",
       "        vertical-align: top;\n",
       "    }\n",
       "\n",
       "    .dataframe thead th {\n",
       "        text-align: right;\n",
       "    }\n",
       "</style>\n",
       "<table border=\"1\" class=\"dataframe\">\n",
       "  <thead>\n",
       "    <tr style=\"text-align: right;\">\n",
       "      <th></th>\n",
       "      <th>pregnancies_times</th>\n",
       "      <th>glucose</th>\n",
       "      <th>bp</th>\n",
       "      <th>skin_thickness</th>\n",
       "      <th>insulin</th>\n",
       "      <th>bmi</th>\n",
       "      <th>Diabetes_Pedigree_Function</th>\n",
       "      <th>age</th>\n",
       "      <th>outcome</th>\n",
       "    </tr>\n",
       "  </thead>\n",
       "  <tbody>\n",
       "    <tr>\n",
       "      <td>pregnancies_times</td>\n",
       "      <td>1.000000</td>\n",
       "      <td>0.127964</td>\n",
       "      <td>0.208984</td>\n",
       "      <td>0.013376</td>\n",
       "      <td>-0.018082</td>\n",
       "      <td>0.021546</td>\n",
       "      <td>-0.033523</td>\n",
       "      <td>0.544341</td>\n",
       "      <td>0.221898</td>\n",
       "    </tr>\n",
       "    <tr>\n",
       "      <td>glucose</td>\n",
       "      <td>0.127964</td>\n",
       "      <td>1.000000</td>\n",
       "      <td>0.219666</td>\n",
       "      <td>0.160766</td>\n",
       "      <td>0.396597</td>\n",
       "      <td>0.231478</td>\n",
       "      <td>0.137106</td>\n",
       "      <td>0.266600</td>\n",
       "      <td>0.492908</td>\n",
       "    </tr>\n",
       "    <tr>\n",
       "      <td>bp</td>\n",
       "      <td>0.208984</td>\n",
       "      <td>0.219666</td>\n",
       "      <td>1.000000</td>\n",
       "      <td>0.134155</td>\n",
       "      <td>0.010926</td>\n",
       "      <td>0.281231</td>\n",
       "      <td>0.000371</td>\n",
       "      <td>0.326740</td>\n",
       "      <td>0.162986</td>\n",
       "    </tr>\n",
       "    <tr>\n",
       "      <td>skin_thickness</td>\n",
       "      <td>0.013376</td>\n",
       "      <td>0.160766</td>\n",
       "      <td>0.134155</td>\n",
       "      <td>1.000000</td>\n",
       "      <td>0.240361</td>\n",
       "      <td>0.535703</td>\n",
       "      <td>0.154961</td>\n",
       "      <td>0.026423</td>\n",
       "      <td>0.175026</td>\n",
       "    </tr>\n",
       "    <tr>\n",
       "      <td>insulin</td>\n",
       "      <td>-0.018082</td>\n",
       "      <td>0.396597</td>\n",
       "      <td>0.010926</td>\n",
       "      <td>0.240361</td>\n",
       "      <td>1.000000</td>\n",
       "      <td>0.189856</td>\n",
       "      <td>0.157806</td>\n",
       "      <td>0.038652</td>\n",
       "      <td>0.179185</td>\n",
       "    </tr>\n",
       "    <tr>\n",
       "      <td>bmi</td>\n",
       "      <td>0.021546</td>\n",
       "      <td>0.231478</td>\n",
       "      <td>0.281231</td>\n",
       "      <td>0.535703</td>\n",
       "      <td>0.189856</td>\n",
       "      <td>1.000000</td>\n",
       "      <td>0.153508</td>\n",
       "      <td>0.025748</td>\n",
       "      <td>0.312254</td>\n",
       "    </tr>\n",
       "    <tr>\n",
       "      <td>Diabetes_Pedigree_Function</td>\n",
       "      <td>-0.033523</td>\n",
       "      <td>0.137106</td>\n",
       "      <td>0.000371</td>\n",
       "      <td>0.154961</td>\n",
       "      <td>0.157806</td>\n",
       "      <td>0.153508</td>\n",
       "      <td>1.000000</td>\n",
       "      <td>0.033561</td>\n",
       "      <td>0.173844</td>\n",
       "    </tr>\n",
       "    <tr>\n",
       "      <td>age</td>\n",
       "      <td>0.544341</td>\n",
       "      <td>0.266600</td>\n",
       "      <td>0.326740</td>\n",
       "      <td>0.026423</td>\n",
       "      <td>0.038652</td>\n",
       "      <td>0.025748</td>\n",
       "      <td>0.033561</td>\n",
       "      <td>1.000000</td>\n",
       "      <td>0.238356</td>\n",
       "    </tr>\n",
       "    <tr>\n",
       "      <td>outcome</td>\n",
       "      <td>0.221898</td>\n",
       "      <td>0.492908</td>\n",
       "      <td>0.162986</td>\n",
       "      <td>0.175026</td>\n",
       "      <td>0.179185</td>\n",
       "      <td>0.312254</td>\n",
       "      <td>0.173844</td>\n",
       "      <td>0.238356</td>\n",
       "      <td>1.000000</td>\n",
       "    </tr>\n",
       "  </tbody>\n",
       "</table>\n",
       "</div>"
      ],
      "text/plain": [
       "                            pregnancies_times   glucose        bp  \\\n",
       "pregnancies_times                    1.000000  0.127964  0.208984   \n",
       "glucose                              0.127964  1.000000  0.219666   \n",
       "bp                                   0.208984  0.219666  1.000000   \n",
       "skin_thickness                       0.013376  0.160766  0.134155   \n",
       "insulin                             -0.018082  0.396597  0.010926   \n",
       "bmi                                  0.021546  0.231478  0.281231   \n",
       "Diabetes_Pedigree_Function          -0.033523  0.137106  0.000371   \n",
       "age                                  0.544341  0.266600  0.326740   \n",
       "outcome                              0.221898  0.492908  0.162986   \n",
       "\n",
       "                            skin_thickness   insulin       bmi  \\\n",
       "pregnancies_times                 0.013376 -0.018082  0.021546   \n",
       "glucose                           0.160766  0.396597  0.231478   \n",
       "bp                                0.134155  0.010926  0.281231   \n",
       "skin_thickness                    1.000000  0.240361  0.535703   \n",
       "insulin                           0.240361  1.000000  0.189856   \n",
       "bmi                               0.535703  0.189856  1.000000   \n",
       "Diabetes_Pedigree_Function        0.154961  0.157806  0.153508   \n",
       "age                               0.026423  0.038652  0.025748   \n",
       "outcome                           0.175026  0.179185  0.312254   \n",
       "\n",
       "                            Diabetes_Pedigree_Function       age   outcome  \n",
       "pregnancies_times                            -0.033523  0.544341  0.221898  \n",
       "glucose                                       0.137106  0.266600  0.492908  \n",
       "bp                                            0.000371  0.326740  0.162986  \n",
       "skin_thickness                                0.154961  0.026423  0.175026  \n",
       "insulin                                       0.157806  0.038652  0.179185  \n",
       "bmi                                           0.153508  0.025748  0.312254  \n",
       "Diabetes_Pedigree_Function                    1.000000  0.033561  0.173844  \n",
       "age                                           0.033561  1.000000  0.238356  \n",
       "outcome                                       0.173844  0.238356  1.000000  "
      ]
     },
     "execution_count": 53,
     "metadata": {},
     "output_type": "execute_result"
    }
   ],
   "source": [
    "df.corr()"
   ]
  },
  {
   "cell_type": "code",
   "execution_count": 54,
   "metadata": {},
   "outputs": [
    {
     "data": {
      "image/png": "[encoded data removed]",
      "text/plain": [
       "<Figure size 432x288 with 2 Axes>"
      ]
     },
     "metadata": {
      "needs_background": "light"
     },
     "output_type": "display_data"
    }
   ],
   "source": [
    "corr_matrix = df.corr()\n",
    "sns.heatmap(corr_matrix);"
   ]
  },
  {
   "cell_type": "markdown",
   "metadata": {},
   "source": [
    "### Extract X and Y colummns"
   ]
  },
  {
   "cell_type": "code",
   "execution_count": 55,
   "metadata": {},
   "outputs": [],
   "source": [
    "from sklearn.model_selection import train_test_split\n",
    "Y = df['outcome']\n",
    "X = df.drop(columns=['outcome'])"
   ]
  },
  {
   "cell_type": "markdown",
   "metadata": {},
   "source": [
    "### Test Train Split "
   ]
  },
  {
   "cell_type": "code",
   "execution_count": 56,
   "metadata": {},
   "outputs": [
    {
     "name": "stdout",
     "output_type": "stream",
     "text": [
      "X_train size (537, 8) , X_test size (231, 8)\n"
     ]
    }
   ],
   "source": [
    "X_train,X_test,y_train,y_test = train_test_split(X,Y,test_size=0.3,random_state=1)\n",
    "print('X_train size {} , X_test size {}'.format(X_train.shape,X_test.shape))"
   ]
  },
  {
   "cell_type": "markdown",
   "metadata": {},
   "source": [
    "### Normalizing the data"
   ]
  },
  {
   "cell_type": "code",
   "execution_count": 57,
   "metadata": {},
   "outputs": [
    {
     "name": "stdout",
     "output_type": "stream",
     "text": [
      "[[ 0.63994726  0.86527574 -0.0210444  ...  0.16725546  0.46849198\n",
      "   1.4259954 ]\n",
      " [-0.84488505 -1.20598931 -0.51658286 ... -0.85153454 -0.36506078\n",
      "  -0.19067191]\n",
      " [ 1.23388019  2.01597855 -0.68176235 ... -1.33182125  0.60439732\n",
      "  -0.10558415]\n",
      " ...\n",
      " [ 0.3429808  -0.02240928 -0.0210444  ... -0.90975111 -0.68519336\n",
      "  -0.27575966]\n",
      " [-0.84488505  0.14197684 -1.01212132 ... -0.34213954 -0.37110101\n",
      "   1.17073215]\n",
      " [-0.84488505 -0.94297153 -0.18622389 ... -0.29847711 -0.47378505\n",
      "  -0.87137393]]\n"
     ]
    }
   ],
   "source": [
    "from sklearn.preprocessing import StandardScaler\n",
    "sc = StandardScaler()\n",
    "X = sc.fit_transform(X)\n",
    "print(X)"
   ]
  },
  {
   "cell_type": "code",
   "execution_count": 58,
   "metadata": {},
   "outputs": [
    {
     "name": "stdout",
     "output_type": "stream",
     "text": [
      "0      1\n",
      "1      0\n",
      "2      1\n",
      "3      0\n",
      "4      1\n",
      "      ..\n",
      "763    0\n",
      "764    0\n",
      "765    0\n",
      "766    1\n",
      "767    0\n",
      "Name: outcome, Length: 768, dtype: int64\n"
     ]
    }
   ],
   "source": [
    "print (Y)"
   ]
  },
  {
   "cell_type": "code",
   "execution_count": null,
   "metadata": {},
   "outputs": [],
   "source": []
  },
  {
   "cell_type": "markdown",
   "metadata": {},
   "source": [
    "# Neural network"
   ]
  },
  {
   "cell_type": "code",
   "execution_count": 59,
   "metadata": {},
   "outputs": [],
   "source": [
    "model = Sequential()\n",
    "model.add(Dense(12, input_dim=8, activation='relu'))\n",
    "model.add(Dense(8, activation='relu'))\n",
    "model.add(Dense(1, activation='sigmoid'))"
   ]
  },
  {
   "cell_type": "markdown",
   "metadata": {},
   "source": [
    "### Compile the keras model"
   ]
  },
  {
   "cell_type": "code",
   "execution_count": 60,
   "metadata": {},
   "outputs": [],
   "source": [
    "model.compile(loss='binary_crossentropy', optimizer='adam', metrics=['accuracy'])"
   ]
  },
  {
   "cell_type": "markdown",
   "metadata": {},
   "source": [
    "### Fit the keras model on the dataset"
   ]
  },
  {
   "cell_type": "code",
   "execution_count": 61,
   "metadata": {},
   "outputs": [
    {
     "name": "stdout",
     "output_type": "stream",
     "text": [
      "Epoch 1/150\n",
      "768/768 [==============================] - 1s 834us/step - loss: 0.6538 - acc: 0.6667\n",
      "Epoch 2/150\n",
      "768/768 [==============================] - 0s 224us/step - loss: 0.5830 - acc: 0.7109\n",
      "Epoch 3/150\n",
      "768/768 [==============================] - 0s 203us/step - loss: 0.5317 - acc: 0.7474\n",
      "Epoch 4/150\n",
      "768/768 [==============================] - 0s 193us/step - loss: 0.4995 - acc: 0.7643\n",
      "Epoch 5/150\n",
      "768/768 [==============================] - 0s 203us/step - loss: 0.4791 - acc: 0.7604\n",
      "Epoch 6/150\n",
      "768/768 [==============================] - 0s 203us/step - loss: 0.4677 - acc: 0.7721\n",
      "Epoch 7/150\n",
      "768/768 [==============================] - 0s 305us/step - loss: 0.4609 - acc: 0.7721\n",
      "Epoch 8/150\n",
      "768/768 [==============================] - 0s 224us/step - loss: 0.4560 - acc: 0.7786\n",
      "Epoch 9/150\n",
      "768/768 [==============================] - 0s 203us/step - loss: 0.4525 - acc: 0.7747\n",
      "Epoch 10/150\n",
      "768/768 [==============================] - 0s 244us/step - loss: 0.4495 - acc: 0.7812\n",
      "Epoch 11/150\n",
      "768/768 [==============================] - 0s 244us/step - loss: 0.4469 - acc: 0.7891\n",
      "Epoch 12/150\n",
      "768/768 [==============================] - 0s 224us/step - loss: 0.4451 - acc: 0.7852\n",
      "Epoch 13/150\n",
      "768/768 [==============================] - 0s 203us/step - loss: 0.4431 - acc: 0.7812\n",
      "Epoch 14/150\n",
      "768/768 [==============================] - 0s 224us/step - loss: 0.4419 - acc: 0.7878\n",
      "Epoch 15/150\n",
      "768/768 [==============================] - 0s 224us/step - loss: 0.4392 - acc: 0.7865\n",
      "Epoch 16/150\n",
      "768/768 [==============================] - 0s 203us/step - loss: 0.4377 - acc: 0.7930\n",
      "Epoch 17/150\n",
      "768/768 [==============================] - 0s 224us/step - loss: 0.4366 - acc: 0.7865\n",
      "Epoch 18/150\n",
      "768/768 [==============================] - 0s 203us/step - loss: 0.4351 - acc: 0.7904\n",
      "Epoch 19/150\n",
      "768/768 [==============================] - 0s 229us/step - loss: 0.4341 - acc: 0.7930\n",
      "Epoch 20/150\n",
      "768/768 [==============================] - 0s 213us/step - loss: 0.4322 - acc: 0.7943\n",
      "Epoch 21/150\n",
      "768/768 [==============================] - 0s 213us/step - loss: 0.4315 - acc: 0.8034\n",
      "Epoch 22/150\n",
      "768/768 [==============================] - 0s 229us/step - loss: 0.4308 - acc: 0.7982\n",
      "Epoch 23/150\n",
      "768/768 [==============================] - 0s 292us/step - loss: 0.4298 - acc: 0.7995\n",
      "Epoch 24/150\n",
      "768/768 [==============================] - 0s 234us/step - loss: 0.4282 - acc: 0.8021\n",
      "Epoch 25/150\n",
      "768/768 [==============================] - 0s 199us/step - loss: 0.4270 - acc: 0.7995\n",
      "Epoch 26/150\n",
      "768/768 [==============================] - 0s 224us/step - loss: 0.4265 - acc: 0.8008\n",
      "Epoch 27/150\n",
      "768/768 [==============================] - 0s 224us/step - loss: 0.4252 - acc: 0.7995\n",
      "Epoch 28/150\n",
      "768/768 [==============================] - 0s 224us/step - loss: 0.4247 - acc: 0.8034\n",
      "Epoch 29/150\n",
      "768/768 [==============================] - 0s 224us/step - loss: 0.4221 - acc: 0.8060\n",
      "Epoch 30/150\n",
      "768/768 [==============================] - 0s 244us/step - loss: 0.4211 - acc: 0.8021\n",
      "Epoch 31/150\n",
      "768/768 [==============================] - 0s 244us/step - loss: 0.4192 - acc: 0.8047\n",
      "Epoch 32/150\n",
      "768/768 [==============================] - 0s 224us/step - loss: 0.4183 - acc: 0.8034\n",
      "Epoch 33/150\n",
      "768/768 [==============================] - 0s 244us/step - loss: 0.4171 - acc: 0.8008\n",
      "Epoch 34/150\n",
      "768/768 [==============================] - 0s 203us/step - loss: 0.4162 - acc: 0.8047\n",
      "Epoch 35/150\n",
      "768/768 [==============================] - 0s 203us/step - loss: 0.4148 - acc: 0.8073\n",
      "Epoch 36/150\n",
      "768/768 [==============================] - 0s 244us/step - loss: 0.4132 - acc: 0.8112\n",
      "Epoch 37/150\n",
      "768/768 [==============================] - 0s 224us/step - loss: 0.4129 - acc: 0.8008\n",
      "Epoch 38/150\n",
      "768/768 [==============================] - 0s 257us/step - loss: 0.4116 - acc: 0.8047\n",
      "Epoch 39/150\n",
      "768/768 [==============================] - 0s 203us/step - loss: 0.4105 - acc: 0.8073\n",
      "Epoch 40/150\n",
      "768/768 [==============================] - 0s 183us/step - loss: 0.4088 - acc: 0.8086\n",
      "Epoch 41/150\n",
      "768/768 [==============================] - 0s 203us/step - loss: 0.4087 - acc: 0.8138\n",
      "Epoch 42/150\n",
      "768/768 [==============================] - 0s 224us/step - loss: 0.4071 - acc: 0.8151\n",
      "Epoch 43/150\n",
      "768/768 [==============================] - 0s 203us/step - loss: 0.4065 - acc: 0.8099\n",
      "Epoch 44/150\n",
      "768/768 [==============================] - 0s 203us/step - loss: 0.4047 - acc: 0.8151\n",
      "Epoch 45/150\n",
      "768/768 [==============================] - 0s 224us/step - loss: 0.4043 - acc: 0.8138\n",
      "Epoch 46/150\n",
      "768/768 [==============================] - 0s 224us/step - loss: 0.4028 - acc: 0.8164\n",
      "Epoch 47/150\n",
      "768/768 [==============================] - 0s 203us/step - loss: 0.4024 - acc: 0.8112\n",
      "Epoch 48/150\n",
      "768/768 [==============================] - 0s 224us/step - loss: 0.4010 - acc: 0.8125\n",
      "Epoch 49/150\n",
      "768/768 [==============================] - 0s 203us/step - loss: 0.4010 - acc: 0.8125\n",
      "Epoch 50/150\n",
      "768/768 [==============================] - 0s 203us/step - loss: 0.4010 - acc: 0.8112\n",
      "Epoch 51/150\n",
      "768/768 [==============================] - 0s 244us/step - loss: 0.3988 - acc: 0.8125\n",
      "Epoch 52/150\n",
      "768/768 [==============================] - 0s 325us/step - loss: 0.3981 - acc: 0.8125\n",
      "Epoch 53/150\n",
      "768/768 [==============================] - 0s 366us/step - loss: 0.3966 - acc: 0.8060\n",
      "Epoch 54/150\n",
      "768/768 [==============================] - 0s 301us/step - loss: 0.3966 - acc: 0.8112\n",
      "Epoch 55/150\n",
      "768/768 [==============================] - 0s 244us/step - loss: 0.3964 - acc: 0.8151\n",
      "Epoch 56/150\n",
      "768/768 [==============================] - 0s 264us/step - loss: 0.3947 - acc: 0.8138\n",
      "Epoch 57/150\n",
      "768/768 [==============================] - 0s 264us/step - loss: 0.3936 - acc: 0.8099\n",
      "Epoch 58/150\n",
      "768/768 [==============================] - 0s 264us/step - loss: 0.3929 - acc: 0.8125\n",
      "Epoch 59/150\n",
      "768/768 [==============================] - 0s 264us/step - loss: 0.3931 - acc: 0.8086\n",
      "Epoch 60/150\n",
      "768/768 [==============================] - 0s 244us/step - loss: 0.3913 - acc: 0.8138\n",
      "Epoch 61/150\n",
      "768/768 [==============================] - 0s 244us/step - loss: 0.3907 - acc: 0.8138\n",
      "Epoch 62/150\n",
      "768/768 [==============================] - 0s 244us/step - loss: 0.3909 - acc: 0.8112\n",
      "Epoch 63/150\n",
      "768/768 [==============================] - 0s 264us/step - loss: 0.3891 - acc: 0.8086\n",
      "Epoch 64/150\n",
      "768/768 [==============================] - 0s 366us/step - loss: 0.3881 - acc: 0.8138\n",
      "Epoch 65/150\n",
      "768/768 [==============================] - 0s 305us/step - loss: 0.3875 - acc: 0.8164\n",
      "Epoch 66/150\n",
      "768/768 [==============================] - 0s 264us/step - loss: 0.3869 - acc: 0.8151\n",
      "Epoch 67/150\n",
      "768/768 [==============================] - 0s 258us/step - loss: 0.3875 - acc: 0.8164\n",
      "Epoch 68/150\n",
      "768/768 [==============================] - 0s 224us/step - loss: 0.3857 - acc: 0.8164\n",
      "Epoch 69/150\n",
      "768/768 [==============================] - 0s 203us/step - loss: 0.3857 - acc: 0.8216\n",
      "Epoch 70/150\n",
      "768/768 [==============================] - 0s 198us/step - loss: 0.3851 - acc: 0.8203\n",
      "Epoch 71/150\n",
      "768/768 [==============================] - 0s 219us/step - loss: 0.3850 - acc: 0.8138\n",
      "Epoch 72/150\n",
      "768/768 [==============================] - 0s 213us/step - loss: 0.3838 - acc: 0.8177\n",
      "Epoch 73/150\n",
      "768/768 [==============================] - 0s 199us/step - loss: 0.3833 - acc: 0.8177\n",
      "Epoch 74/150\n",
      "768/768 [==============================] - 0s 183us/step - loss: 0.3822 - acc: 0.8177\n",
      "Epoch 75/150\n",
      "768/768 [==============================] - 0s 183us/step - loss: 0.3811 - acc: 0.8203\n",
      "Epoch 76/150\n",
      "768/768 [==============================] - 0s 224us/step - loss: 0.3817 - acc: 0.8255\n",
      "Epoch 77/150\n",
      "768/768 [==============================] - 0s 224us/step - loss: 0.3810 - acc: 0.8229\n",
      "Epoch 78/150\n",
      "768/768 [==============================] - 0s 224us/step - loss: 0.3798 - acc: 0.8203\n",
      "Epoch 79/150\n",
      "768/768 [==============================] - 0s 224us/step - loss: 0.3795 - acc: 0.8203\n",
      "Epoch 80/150\n",
      "768/768 [==============================] - 0s 244us/step - loss: 0.3780 - acc: 0.8190\n",
      "Epoch 81/150\n",
      "768/768 [==============================] - 0s 203us/step - loss: 0.3781 - acc: 0.8229\n",
      "Epoch 82/150\n",
      "768/768 [==============================] - 0s 224us/step - loss: 0.3781 - acc: 0.8164\n",
      "Epoch 83/150\n",
      "768/768 [==============================] - 0s 203us/step - loss: 0.3774 - acc: 0.8203\n",
      "Epoch 84/150\n",
      "768/768 [==============================] - 0s 203us/step - loss: 0.3765 - acc: 0.8177\n",
      "Epoch 85/150\n",
      "768/768 [==============================] - 0s 264us/step - loss: 0.3758 - acc: 0.8138\n",
      "Epoch 86/150\n",
      "768/768 [==============================] - 0s 203us/step - loss: 0.3753 - acc: 0.8229\n",
      "Epoch 87/150\n",
      "768/768 [==============================] - 0s 212us/step - loss: 0.3757 - acc: 0.8151\n",
      "Epoch 88/150\n",
      "768/768 [==============================] - 0s 224us/step - loss: 0.3746 - acc: 0.8203\n",
      "Epoch 89/150\n",
      "768/768 [==============================] - 0s 224us/step - loss: 0.3735 - acc: 0.8190\n",
      "Epoch 90/150\n",
      "768/768 [==============================] - 0s 224us/step - loss: 0.3733 - acc: 0.8333\n",
      "Epoch 91/150\n",
      "768/768 [==============================] - ETA: 0s - loss: 0.3697 - acc: 0.827 - 0s 234us/step - loss: 0.3736 - acc: 0.8229\n",
      "Epoch 92/150\n",
      "768/768 [==============================] - 0s 245us/step - loss: 0.3724 - acc: 0.8281\n",
      "Epoch 93/150\n",
      "768/768 [==============================] - 0s 240us/step - loss: 0.3720 - acc: 0.8307\n",
      "Epoch 94/150\n",
      "768/768 [==============================] - 0s 213us/step - loss: 0.3721 - acc: 0.8216\n",
      "Epoch 95/150\n",
      "768/768 [==============================] - 0s 266us/step - loss: 0.3714 - acc: 0.8242\n",
      "Epoch 96/150\n",
      "768/768 [==============================] - 0s 212us/step - loss: 0.3709 - acc: 0.8268\n",
      "Epoch 97/150\n",
      "768/768 [==============================] - 0s 224us/step - loss: 0.3703 - acc: 0.8333\n",
      "Epoch 98/150\n",
      "768/768 [==============================] - 0s 203us/step - loss: 0.3707 - acc: 0.8281\n",
      "Epoch 99/150\n",
      "768/768 [==============================] - 0s 224us/step - loss: 0.3700 - acc: 0.8242\n",
      "Epoch 100/150\n",
      "768/768 [==============================] - 0s 203us/step - loss: 0.3699 - acc: 0.8255\n",
      "Epoch 101/150\n",
      "768/768 [==============================] - 0s 203us/step - loss: 0.3690 - acc: 0.8333\n",
      "Epoch 102/150\n",
      "768/768 [==============================] - 0s 224us/step - loss: 0.3693 - acc: 0.8268\n",
      "Epoch 103/150\n",
      "768/768 [==============================] - 0s 310us/step - loss: 0.3677 - acc: 0.8281\n",
      "Epoch 104/150\n",
      "768/768 [==============================] - 0s 240us/step - loss: 0.3673 - acc: 0.8333\n",
      "Epoch 105/150\n",
      "768/768 [==============================] - 0s 183us/step - loss: 0.3673 - acc: 0.8268\n",
      "Epoch 106/150\n",
      "768/768 [==============================] - 0s 224us/step - loss: 0.3666 - acc: 0.8255\n",
      "Epoch 107/150\n",
      "768/768 [==============================] - 0s 231us/step - loss: 0.3670 - acc: 0.8294\n",
      "Epoch 108/150\n",
      "768/768 [==============================] - 0s 266us/step - loss: 0.3662 - acc: 0.8255\n",
      "Epoch 109/150\n",
      "768/768 [==============================] - 0s 286us/step - loss: 0.3654 - acc: 0.8333\n",
      "Epoch 110/150\n",
      "768/768 [==============================] - 0s 312us/step - loss: 0.3655 - acc: 0.8281\n",
      "Epoch 111/150\n",
      "768/768 [==============================] - 0s 276us/step - loss: 0.3637 - acc: 0.8346\n",
      "Epoch 112/150\n",
      "768/768 [==============================] - 0s 276us/step - loss: 0.3635 - acc: 0.8333\n",
      "Epoch 113/150\n",
      "768/768 [==============================] - 0s 286us/step - loss: 0.3642 - acc: 0.8294\n",
      "Epoch 114/150\n",
      "768/768 [==============================] - 0s 255us/step - loss: 0.3627 - acc: 0.8359\n",
      "Epoch 115/150\n",
      "768/768 [==============================] - 0s 219us/step - loss: 0.3619 - acc: 0.8333\n",
      "Epoch 116/150\n",
      "768/768 [==============================] - 0s 276us/step - loss: 0.3619 - acc: 0.8333\n",
      "Epoch 117/150\n",
      "768/768 [==============================] - 0s 231us/step - loss: 0.3614 - acc: 0.8294\n",
      "Epoch 118/150\n",
      "768/768 [==============================] - 0s 224us/step - loss: 0.3609 - acc: 0.8320\n",
      "Epoch 119/150\n",
      "768/768 [==============================] - 0s 274us/step - loss: 0.3606 - acc: 0.8294\n",
      "Epoch 120/150\n",
      "768/768 [==============================] - 0s 244us/step - loss: 0.3603 - acc: 0.8333\n",
      "Epoch 121/150\n",
      "768/768 [==============================] - 0s 244us/step - loss: 0.3598 - acc: 0.8372\n",
      "Epoch 122/150\n",
      "768/768 [==============================] - 0s 264us/step - loss: 0.3611 - acc: 0.8281\n",
      "Epoch 123/150\n",
      "768/768 [==============================] - 0s 264us/step - loss: 0.3589 - acc: 0.8346\n",
      "Epoch 124/150\n",
      "768/768 [==============================] - 0s 224us/step - loss: 0.3579 - acc: 0.8359\n",
      "Epoch 125/150\n",
      "768/768 [==============================] - 0s 264us/step - loss: 0.3575 - acc: 0.8333\n",
      "Epoch 126/150\n",
      "768/768 [==============================] - 0s 203us/step - loss: 0.3564 - acc: 0.8346\n",
      "Epoch 127/150\n",
      "768/768 [==============================] - 0s 244us/step - loss: 0.3566 - acc: 0.8359\n",
      "Epoch 128/150\n",
      "768/768 [==============================] - 0s 203us/step - loss: 0.3567 - acc: 0.8372\n",
      "Epoch 129/150\n",
      "768/768 [==============================] - 0s 203us/step - loss: 0.3570 - acc: 0.8372\n",
      "Epoch 130/150\n",
      "768/768 [==============================] - 0s 285us/step - loss: 0.3562 - acc: 0.8359\n",
      "Epoch 131/150\n",
      "768/768 [==============================] - 0s 203us/step - loss: 0.3547 - acc: 0.8437\n",
      "Epoch 132/150\n",
      "768/768 [==============================] - 0s 203us/step - loss: 0.3540 - acc: 0.8346\n",
      "Epoch 133/150\n",
      "768/768 [==============================] - 0s 224us/step - loss: 0.3561 - acc: 0.8320\n",
      "Epoch 134/150\n",
      "768/768 [==============================] - 0s 264us/step - loss: 0.3532 - acc: 0.8385\n",
      "Epoch 135/150\n",
      "768/768 [==============================] - 0s 205us/step - loss: 0.3541 - acc: 0.8320\n",
      "Epoch 136/150\n",
      "768/768 [==============================] - 0s 305us/step - loss: 0.3529 - acc: 0.8359\n",
      "Epoch 137/150\n",
      "768/768 [==============================] - 0s 261us/step - loss: 0.3531 - acc: 0.8411\n",
      "Epoch 138/150\n",
      "768/768 [==============================] - 0s 264us/step - loss: 0.3529 - acc: 0.8398\n",
      "Epoch 139/150\n",
      "768/768 [==============================] - 0s 285us/step - loss: 0.3516 - acc: 0.8385\n",
      "Epoch 140/150\n",
      "768/768 [==============================] - 0s 244us/step - loss: 0.3513 - acc: 0.8411\n",
      "Epoch 141/150\n",
      "768/768 [==============================] - 0s 346us/step - loss: 0.3509 - acc: 0.8385\n",
      "Epoch 142/150\n",
      "768/768 [==============================] - 0s 264us/step - loss: 0.3516 - acc: 0.8398\n",
      "Epoch 143/150\n",
      "768/768 [==============================] - 0s 285us/step - loss: 0.3502 - acc: 0.8398\n",
      "Epoch 144/150\n",
      "768/768 [==============================] - 0s 285us/step - loss: 0.3503 - acc: 0.8385\n",
      "Epoch 145/150\n",
      "768/768 [==============================] - 0s 325us/step - loss: 0.3501 - acc: 0.8424\n",
      "Epoch 146/150\n",
      "768/768 [==============================] - 0s 264us/step - loss: 0.3487 - acc: 0.8398\n",
      "Epoch 147/150\n",
      "768/768 [==============================] - 0s 305us/step - loss: 0.3488 - acc: 0.8424\n",
      "Epoch 148/150\n",
      "768/768 [==============================] - 0s 244us/step - loss: 0.3485 - acc: 0.8385\n",
      "Epoch 149/150\n",
      "768/768 [==============================] - 0s 271us/step - loss: 0.3481 - acc: 0.8411\n",
      "Epoch 150/150\n",
      "768/768 [==============================] - 0s 244us/step - loss: 0.3482 - acc: 0.8398\n"
     ]
    },
    {
     "data": {
      "text/plain": [
       "<keras.callbacks.History at 0x29137769a88>"
      ]
     },
     "execution_count": 61,
     "metadata": {},
     "output_type": "execute_result"
    }
   ],
   "source": [
    "model.fit(X, Y, epochs=150, batch_size=10)"
   ]
  },
  {
   "cell_type": "markdown",
   "metadata": {},
   "source": [
    "## Accuracy Calculation  -- Evaluate the keras model"
   ]
  },
  {
   "cell_type": "code",
   "execution_count": 62,
   "metadata": {},
   "outputs": [
    {
     "name": "stdout",
     "output_type": "stream",
     "text": [
      "768/768 [==============================] - 0s 264us/step\n",
      "Accuracy: 84.64\n"
     ]
    }
   ],
   "source": [
    "_, accuracy = model.evaluate(X, Y)\n",
    "print('Accuracy: %.2f' % (accuracy*100))"
   ]
  },
  {
   "cell_type": "markdown",
   "metadata": {},
   "source": [
    "### Make probability predictions with the model"
   ]
  },
  {
   "cell_type": "code",
   "execution_count": 63,
   "metadata": {},
   "outputs": [],
   "source": [
    "predictions = model.predict(X)\n",
    "# round predictions \n",
    "rounded = [round(x[0]) for x in predictions]"
   ]
  },
  {
   "cell_type": "markdown",
   "metadata": {},
   "source": [
    "### Make class predictions (y) with the model"
   ]
  },
  {
   "cell_type": "code",
   "execution_count": 69,
   "metadata": {},
   "outputs": [],
   "source": [
    "y_pred = model.predict_classes(X)"
   ]
  },
  {
   "cell_type": "markdown",
   "metadata": {},
   "source": [
    "## Confustion Matrix"
   ]
  },
  {
   "cell_type": "code",
   "execution_count": 70,
   "metadata": {},
   "outputs": [
    {
     "name": "stdout",
     "output_type": "stream",
     "text": [
      "[[450  50]\n",
      " [ 68 200]]\n"
     ]
    },
    {
     "data": {
      "text/plain": [
       "(450, 50, 68, 200)"
      ]
     },
     "execution_count": 70,
     "metadata": {},
     "output_type": "execute_result"
    }
   ],
   "source": [
    "from sklearn import metrics\n",
    "print(metrics.confusion_matrix(Y, y_pred))\n",
    "TN, FP, FN, TP = metrics.confusion_matrix(Y, y_pred).ravel()\n",
    "(TN, FP, FN, TP)"
   ]
  },
  {
   "cell_type": "markdown",
   "metadata": {},
   "source": [
    "## Classification Accuracy: Overall, how often is the classifier correct?"
   ]
  },
  {
   "cell_type": "code",
   "execution_count": 71,
   "metadata": {},
   "outputs": [
    {
     "name": "stdout",
     "output_type": "stream",
     "text": [
      "0.8463541666666666\n",
      "0.8463541666666666\n"
     ]
    }
   ],
   "source": [
    "\n",
    "# use float to perform true division, not integer division\n",
    "print((TP + TN) / float(TP + TN + FP + FN))\n",
    "print(metrics.accuracy_score(Y, y_pred))"
   ]
  },
  {
   "cell_type": "markdown",
   "metadata": {},
   "source": [
    "### Classification Error: Overall, how often is the classifier incorrect Also known as \"Misclassification Rate\""
   ]
  },
  {
   "cell_type": "code",
   "execution_count": 73,
   "metadata": {},
   "outputs": [
    {
     "name": "stdout",
     "output_type": "stream",
     "text": [
      "0.15364583333333334\n",
      "0.15364583333333337\n"
     ]
    }
   ],
   "source": [
    "classification_error = (FP + FN) / float(TP + TN + FP + FN)\n",
    "print(classification_error)\n",
    "print(1 - metrics.accuracy_score(Y, y_pred))"
   ]
  },
  {
   "cell_type": "markdown",
   "metadata": {},
   "source": [
    "## Sensitivity:\n",
    "### When the actual value is positive, how often is the prediction correct"
   ]
  },
  {
   "cell_type": "code",
   "execution_count": 74,
   "metadata": {},
   "outputs": [
    {
     "name": "stdout",
     "output_type": "stream",
     "text": [
      "0.746268656716418\n",
      "0.746268656716418\n"
     ]
    }
   ],
   "source": [
    "sensitivity = TP / float(FN + TP)\n",
    "print(sensitivity)\n",
    "print(metrics.recall_score(Y, y_pred))"
   ]
  },
  {
   "cell_type": "markdown",
   "metadata": {},
   "source": [
    "## Specificity:\n",
    "### When the actual value is negative, how often is the prediction correct"
   ]
  },
  {
   "cell_type": "code",
   "execution_count": 75,
   "metadata": {},
   "outputs": [
    {
     "name": "stdout",
     "output_type": "stream",
     "text": [
      "0.9\n"
     ]
    }
   ],
   "source": [
    "specificity = TN / (TN + FP)\n",
    "print(specificity)"
   ]
  },
  {
   "cell_type": "markdown",
   "metadata": {},
   "source": [
    "### False Positive Rate: When the actual value is negative, how often is the prediction incorrect false_positive_rate = FP / float(TN + FP)"
   ]
  },
  {
   "cell_type": "code",
   "execution_count": 77,
   "metadata": {},
   "outputs": [
    {
     "name": "stdout",
     "output_type": "stream",
     "text": [
      "0.1\n",
      "0.09999999999999998\n"
     ]
    }
   ],
   "source": [
    "false_positive_rate = FP / float(TN + FP)\n",
    "print(false_positive_rate)\n",
    "print(1 - specificity)"
   ]
  },
  {
   "cell_type": "markdown",
   "metadata": {},
   "source": [
    "### Precision: When a positive value is predicted, how often is the prediction correct"
   ]
  },
  {
   "cell_type": "code",
   "execution_count": 78,
   "metadata": {},
   "outputs": [
    {
     "name": "stdout",
     "output_type": "stream",
     "text": [
      "0.8\n",
      "0.8\n"
     ]
    }
   ],
   "source": [
    "precision = TP / float(TP + FP)\n",
    "print(precision)\n",
    "print(metrics.precision_score(Y, y_pred))"
   ]
  }
 ],
 "metadata": {
  "kernelspec": {
   "display_name": "Python 3",
   "language": "python",
   "name": "python3"
  },
  "language_info": {
   "codemirror_mode": {
    "name": "ipython",
    "version": 3
   },
   "file_extension": ".py",
   "mimetype": "text/x-python",
   "name": "python",
   "nbconvert_exporter": "python",
   "pygments_lexer": "ipython3",
   "version": "3.7.4"
  }
 },
 "nbformat": 4,
 "nbformat_minor": 2
}
